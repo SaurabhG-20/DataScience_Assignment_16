{
 "cells": [
  {
   "cell_type": "markdown",
   "metadata": {},
   "source": [
    "# AcadGild_DataScience_Assignment_16"
   ]
  },
  {
   "cell_type": "markdown",
   "metadata": {},
   "source": [
    "<b> Problem 1 . </b> A test is conducted which is consisting of 20 MCQs (multiple choices questions) with\n",
    "every MCQ having its four options out of which only one is correct. Determine the\n",
    "probability that a person undertaking that test has answered exactly 5 questions wrong."
   ]
  },
  {
   "cell_type": "code",
   "execution_count": null,
   "metadata": {},
   "outputs": [],
   "source": [
    "# Solution : \n",
    "\n",
    "# Mathematical approach :"
   ]
  },
  {
   "cell_type": "markdown",
   "metadata": {},
   "source": [
    " <p>Binomial Distribution formula for probabiloty P (‘k’ successes in ‘N trials) is : </p><p>C(N, k)* P^k* (Q)^(N-k)</p>\n",
    " \n",
    " <p> Where :\n",
    "    <li> P = Probability of success</li>\n",
    "    <li> Q = Probability of failure , which is equivalent to : ( 1- P )</li>\n",
    "    <li> N = is representing the number of trials attempted</li>\n",
    "    <li> k = is the count of successes that is to be attained in those ‘N’ trials</li>\n",
    "    <li> N- k = is the count of failures that is to be attained in those ‘N’ trials</li>\n",
    "    <li> C(N, k)=  coefficient for binomial distribution , which is equivalent to : [ factorial (N) /(factorial (N-k)*(factorial  (k)) ]</li>\n",
    "    \n",
    "</p>"
   ]
  },
  {
   "cell_type": "code",
   "execution_count": null,
   "metadata": {},
   "outputs": [],
   "source": [
    "# insights from the problems is : "
   ]
  },
  {
   "cell_type": "markdown",
   "metadata": {},
   "source": [
    "N= 20   #Total No. of questions to be attempt\n",
    "\n",
    "N-k= 5   #Given in problem , No. of questions to be wrong\n",
    "\n",
    "k= 20-5= 15  #No. of questions to be right, apart from wrong questions\n",
    "\n",
    "P = 1/4 =0.25  #Probability of question to be right\n",
    "\n",
    "Q = 3/4 =0.75  #Probability of question to be wrong"
   ]
  },
  {
   "cell_type": "code",
   "execution_count": 29,
   "metadata": {},
   "outputs": [
    {
     "name": "stdout",
     "output_type": "stream",
     "text": [
      "Probability of exactly 5 questions wrong. \n",
      " \n",
      "0.000003426\n"
     ]
    }
   ],
   "source": [
    "# Mathematical Approach :\n",
    "\n",
    "# Binomial Distribution formula  : C(N, k)*P^k*(Q)^(N-k)\n",
    "\n",
    "# import math module for mathemetical functions\n",
    "\n",
    "import math\n",
    "# Probability of exactly 5 out of 20 questions wrong.\n",
    "\n",
    "# math.factorial(X)  = Return x factorial\n",
    "# math.pow(x, y)  = Return x raised to the power y.\n",
    "\n",
    "probability_wrong_questions =(math.factorial(20)/(math.factorial(20-5)*(math.factorial(5)))) * math.pow((1/4),15) * math.pow((3/4),5)\n",
    "\n",
    "print(\"Probability of exactly 5 questions wrong. \\n \")\n",
    "# format function to convert value into float value till 9 decimal points\n",
    "print(\"{:.9f}\".format(float(probability_wrong_questions))) "
   ]
  },
  {
   "cell_type": "code",
   "execution_count": 30,
   "metadata": {},
   "outputs": [
    {
     "name": "stdout",
     "output_type": "stream",
     "text": [
      "Probability of exactly 5 questions wrong. \n",
      " \n",
      "0.000003426\n"
     ]
    }
   ],
   "source": [
    "# Using Statistical Approach \n",
    "\n",
    "from scipy.stats import binom   # import \" binom \" module from scipy.stats\n",
    "\n",
    "k= 15  # Total no. of right questions\n",
    "N= 20  # Total No. of questions to be attemmpted\n",
    "P= 0.25 # Probability of right question 1/4\n",
    "\n",
    "probability_wrong_ques = binom.pmf(k,N,P)   # binom.pmf(k,N,P) is probability mass function\n",
    "\n",
    "print(\"Probability of exactly 5 questions wrong. \\n \")\n",
    "# format function to convert value into float value till 9 decimal points\n",
    "print(\"{:.9f}\".format(float(probability_wrong_ques)))  "
   ]
  },
  {
   "cell_type": "markdown",
   "metadata": {},
   "source": [
    "------------------------------------------------------------------------------------------------------------------------------"
   ]
  },
  {
   "cell_type": "markdown",
   "metadata": {},
   "source": [
    "<b> Problem 2.</b> A die marked A to E is rolled 50 times. Find the probability of getting a “D” exactly 5 times."
   ]
  },
  {
   "cell_type": "code",
   "execution_count": null,
   "metadata": {},
   "outputs": [],
   "source": [
    "# Solution "
   ]
  },
  {
   "cell_type": "markdown",
   "metadata": {},
   "source": [
    "Total Alphabets marked on die : (A, B , C , D , E) -> n= 5\n",
    "\n",
    "Total No of Trials ( No. Of times die rolled )  N = 50\n",
    "\n",
    "No. of trails for a likely event (getting  \"D\") k =5\n",
    "\n",
    "Probability of getting D , while rolling the die -> P = 1/5 =0.20\n",
    "\n",
    "Probability of not getting the D w, while roling the die -> Q= 4/5=0.80"
   ]
  },
  {
   "cell_type": "code",
   "execution_count": 31,
   "metadata": {},
   "outputs": [
    {
     "name": "stdout",
     "output_type": "stream",
     "text": [
      "Probability of getting a D exactly 5 times. \n",
      " \n",
      "0.029531\n"
     ]
    }
   ],
   "source": [
    "# Mathematical Approach :\n",
    "\n",
    "# import math module for mathemetical functions\n",
    "\n",
    "import math\n",
    "\n",
    "# math.factorial(X)  = Return x factorial\n",
    "# math.pow(x, y)  = Return x raised to the power y.\n",
    "\n",
    "probability_Getting_D =(math.factorial(50)/(math.factorial(45)*(math.factorial(5)))) * math.pow((1/5),5) * math.pow((4/5),45)\n",
    "\n",
    "print(\"Probability of getting a \"'D'\" exactly 5 times. \\n \")\n",
    "# format function to convert value into float value till 9 decimal points\n",
    "print(\"{:.6f}\".format(float(probability_Getting_D)))  "
   ]
  },
  {
   "cell_type": "code",
   "execution_count": 32,
   "metadata": {},
   "outputs": [
    {
     "name": "stdout",
     "output_type": "stream",
     "text": [
      "Probability of getting a D exactly 5 times. \n",
      " \n",
      "0.029531\n"
     ]
    }
   ],
   "source": [
    "# Using Statistical Approach \n",
    "\n",
    "from scipy.stats import binom   # import \" binom \" module from scipy.stats\n",
    "\n",
    "k= 5  # Total no. of times for getting \"D \" \n",
    "N= 50  # Total No. of times , die rolled \n",
    "P= 0.20 # Probability of getting D = 1/5\n",
    "\n",
    "probability_getting_D = binom.pmf(k,N,P)   # binom.pmf(k,N,P) is probability mass function\n",
    "\n",
    "print(\"Probability of getting a \"'D'\" exactly 5 times. \\n \")\n",
    "# format function to convert value into float value till 9 decimal points  \n",
    "print(\"{:.6f}\".format(float(probability_Getting_D)))  "
   ]
  },
  {
   "cell_type": "markdown",
   "metadata": {},
   "source": [
    "-------------------------------------------------------------------------------------------------------------------------------"
   ]
  },
  {
   "cell_type": "markdown",
   "metadata": {},
   "source": [
    "<b> Problem 3.</b> Two balls are drawn at random in succession without replacement from an urn containing 4 red balls and 6 black balls. Find the probabilities of all the possible outcomes."
   ]
  },
  {
   "cell_type": "code",
   "execution_count": 28,
   "metadata": {},
   "outputs": [],
   "source": [
    "# Solution"
   ]
  },
  {
   "cell_type": "markdown",
   "metadata": {},
   "source": [
    "Total No. Of Red balls in Urn -> R = 4\n",
    "\n",
    "Total No. Of Black balls in Urn -> B = 4\n",
    "\n",
    "Total No. Of balls in Urn = 10\n",
    "\n",
    "Possible outcomes  , when two balls has been taken out from Urn :  \n",
    " * Pair of red balls (RR)\n",
    " * Pair of a red ball and a black ball (RB)\n",
    " * Pair of a black ball and a red ball (BR)\n",
    " * Pair of black balls (BB)\n",
    " \n",
    " \n",
    "Probability for getting Two black ball or Zero Red ball (BB) : P(X=0) -: (6/10)*(5/9) =1/3\n",
    "\n",
    "Probability for getting One black ball or One Red ball (RB,BR) : P(X=1) -: (4/10)*(6/9) + (6/9)*(4/10) = 8/15\n",
    "\n",
    "Probability for getting Two Red ball (RR) : P(X=2) -: ( 4/10)*(3/9) =  2/15\n",
    "\n",
    "Sum_Of_Possibilities : P(X=0)+P(X=1)+P(X=2)  = 1/3 + 8/15+2/15 =0.33+0.53+0.13 =0.99 ( almost equal to 1)"
   ]
  },
  {
   "cell_type": "code",
   "execution_count": null,
   "metadata": {},
   "outputs": [],
   "source": []
  }
 ],
 "metadata": {
  "kernelspec": {
   "display_name": "Python 3",
   "language": "python",
   "name": "python3"
  },
  "language_info": {
   "codemirror_mode": {
    "name": "ipython",
    "version": 3
   },
   "file_extension": ".py",
   "mimetype": "text/x-python",
   "name": "python",
   "nbconvert_exporter": "python",
   "pygments_lexer": "ipython3",
   "version": "3.6.5"
  }
 },
 "nbformat": 4,
 "nbformat_minor": 2
}
